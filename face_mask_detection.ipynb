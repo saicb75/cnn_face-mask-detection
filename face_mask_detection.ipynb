{
 "cells": [
  {
   "cell_type": "code",
   "execution_count": null,
   "metadata": {
    "id": "W40ba3kisKjf"
   },
   "outputs": [],
   "source": [
    "import numpy as np\n",
    "import pandas as pd\n",
    "from sklearn.model_selection import train_test_split\n",
    "from tensorflow.keras.models import Sequential\n",
    "from tensorflow.keras.layers import Conv2D, Dense, Dropout, MaxPooling2D, Flatten\n",
    "from tensorflow.keras.preprocessing.image import ImageDataGenerator\n",
    "from tensorflow.keras.preprocessing import image_dataset_from_directory"
   ]
  },
  {
   "cell_type": "code",
   "execution_count": null,
   "metadata": {
    "id": "Cim2usno3M4-"
   },
   "outputs": [],
   "source": [
    "train_data_gen = ImageDataGenerator(rescale=1/255.0,\n",
    "                   shear_range=0.2,\n",
    "                   zoom_range=0.2,\n",
    "                   horizontal_flip= True)\n",
    "test_data_gen = ImageDataGenerator(rescale=1/255.0)\n",
    "\n",
    "training_set_file_path = 'dataset/train'\n",
    "testing_set_file_path = 'dataset/test'\n"
   ]
  },
  {
   "cell_type": "code",
   "execution_count": null,
   "metadata": {
    "colab": {
     "base_uri": "https://localhost:8080/"
    },
    "id": "WihDKhD-4l2f",
    "outputId": "a727e8df-e175-4396-af97-da89e9feaad0"
   },
   "outputs": [],
   "source": [
    "training_set = image_dataset_from_directory(\n",
    "    training_set_file_path,\n",
    "    batch_size = 32,\n",
    "    label_mode=\"binary\")"
   ]
  },
  {
   "cell_type": "code",
   "execution_count": null,
   "metadata": {
    "colab": {
     "base_uri": "https://localhost:8080/"
    },
    "id": "up2-6FIoToUv",
    "outputId": "a90b9dbe-f911-41f4-e5b9-9c8e5adc7ae3"
   },
   "outputs": [],
   "source": [
    "test_set = image_dataset_from_directory(\n",
    "    testing_set_file_path,\n",
    "    batch_size = 32,\n",
    "    label_mode = \"binary\")"
   ]
  },
  {
   "cell_type": "markdown",
   "metadata": {
    "id": "IvUidNfSX6p_"
   },
   "source": [
    "# define the architecture\n",
    "\n",
    "# Initialising the CNN\n",
    "classifier = Sequential()\n",
    "\n",
    "# Step 1 - Convolution\n",
    "#input_shape goes reverse if it is theano backend\n",
    "#Images are 2D\n",
    "classifier.add(Conv2D(32, (3, 3), activation = 'relu'))\n",
    "\n",
    "# Step 2 - Pooling\n",
    "#Most of the time it's (2,2) not loosing many. \n",
    "classifier.add(MaxPooling2D(pool_size = (2, 2)))\n",
    "\n",
    "# Adding a second convolutional layer\n",
    "#Inputs are the pooled feature maps of the previous layer\n",
    "classifier.add(Conv2D(32, (3, 3), activation = 'relu'))\n",
    "classifier.add(MaxPooling2D(pool_size = (2, 2)))\n",
    "\n",
    "\n",
    "# Step 3 - Flattening\n",
    "classifier.add(Flatten())\n",
    "\n",
    "# Step 4 - Full connection\n",
    "#relu - rectifier activation function\n",
    "#128 nodes in the hidden layer\n",
    "classifier.add(Dense(units = 128, activation = 'relu')) \n",
    "#Sigmoid is used because this is a binary classification. For multiclass softmax\n",
    "classifier.add(Dense(units = 1, activation = 'sigmoid'))\n",
    "classifier.compile(optimizer = 'adam', loss = 'binary_crossentropy', metrics = ['accuracy'])\n",
    "classifier.fit(training_set,epochs = 10,validation_data = test_set)\n"
   ]
  },
  {
   "cell_type": "markdown",
   "metadata": {
    "id": "zhZ7nM-sghws"
   },
   "source": [
    "# New Section"
   ]
  },
  {
   "cell_type": "code",
   "execution_count": null,
   "metadata": {
    "colab": {
     "base_uri": "https://localhost:8080/"
    },
    "id": "TN4DvSsagHqs",
    "outputId": "1a89ea2c-8335-4951-ec8d-4438ed961d75"
   },
   "outputs": [],
   "source": [
    "# define the architecture\n",
    "\n",
    "# Initialising the CNN\n",
    "classifier = Sequential()\n",
    "\n",
    "# Step 1 - Convolution\n",
    "#input_shape goes reverse if it is theano backend\n",
    "#Images are 2D\n",
    "classifier.add(Conv2D(32, (3, 3), activation = 'relu'))\n",
    "\n",
    "# Step 2 - Pooling\n",
    "#Most of the time it's (2,2) not loosing many. \n",
    "classifier.add(MaxPooling2D(pool_size = (2, 2)))\n",
    "\n",
    "# Adding a second convolutional layer\n",
    "#Inputs are the pooled feature maps of the previous layer\n",
    "classifier.add(Conv2D(32, (3, 3), activation = 'relu'))\n",
    "classifier.add(MaxPooling2D(pool_size = (2, 2)))\n",
    "\n",
    "\n",
    "# Step 3 - Flattening\n",
    "classifier.add(Flatten())\n",
    "\n",
    "# Step 4 - Full connection\n",
    "#relu - rectifier activation function\n",
    "#128 nodes in the hidden layer\n",
    "classifier.add(Dense(units = 128, activation = 'relu')) \n",
    "#Sigmoid is used because this is a binary classification. For multiclass softmax\n",
    "classifier.add(Dense(units = 1, activation = 'sigmoid'))\n",
    "classifier.compile(optimizer = 'adam', loss = 'binary_crossentropy', metrics = ['accuracy'])\n",
    "classifier.fit(training_set,epochs = 10,validation_data = test_set)\n"
   ]
  },
  {
   "cell_type": "markdown",
   "metadata": {
    "id": "V1uukrHYZk6E"
   },
   "source": [
    "model_path = '/content/drive/MyDrive/Learnbay/Models/facemask-detect.h5'\n",
    "classifier.save(model_path)"
   ]
  },
  {
   "cell_type": "code",
   "execution_count": null,
   "metadata": {
    "id": "Jw6621rOZqBk"
   },
   "outputs": [],
   "source": [
    "model_path = '/content/drive/MyDrive/Learnbay/Models/facemask-detect.h5'\n",
    "\n",
    "from tensorflow.keras.models import load_model\n",
    "\n",
    "classifier = load_model(model_path)\n",
    "y_pred = classifier.predict(test_set)\n"
   ]
  },
  {
   "cell_type": "code",
   "execution_count": null,
   "metadata": {
    "id": "2Uh4SoB_h8mJ"
   },
   "outputs": [],
   "source": [
    "import matplotlib.pyplot as plt\n",
    "\n",
    "#y_pred = y_pred > 0.5\n",
    "print(test_set.class_names)\n",
    "print(y_pred[3])\n"
   ]
  },
  {
   "cell_type": "code",
   "execution_count": null,
   "metadata": {
    "id": "KF4P7W9EeY01"
   },
   "outputs": [],
   "source": [
    "plt.figure(figsize=(10,10))\n",
    "for images, labels in training_set.take(1):\n",
    "    for i in range(6):\n",
    "        ax = plt.subplot(6,6,i+1)\n",
    "        plt.imshow(images[i].numpy().astype(\"uint8\"))\n",
    "        plt.axis(\"off\")"
   ]
  }
 ],
 "metadata": {
  "accelerator": "GPU",
  "colab": {
   "collapsed_sections": [],
   "name": "face_mask_detection.ipynb",
   "provenance": []
  },
  "kernelspec": {
   "display_name": "Python 3",
   "language": "python",
   "name": "python3"
  },
  "language_info": {
   "codemirror_mode": {
    "name": "ipython",
    "version": 3
   },
   "file_extension": ".py",
   "mimetype": "text/x-python",
   "name": "python",
   "nbconvert_exporter": "python",
   "pygments_lexer": "ipython3",
   "version": "3.8.5"
  }
 },
 "nbformat": 4,
 "nbformat_minor": 1
}
